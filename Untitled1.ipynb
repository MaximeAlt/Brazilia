{
 "cells": [
  {
   "cell_type": "code",
   "execution_count": null,
   "id": "b4682d26",
   "metadata": {},
   "outputs": [],
   "source": []
  },
  {
   "cell_type": "code",
   "execution_count": 1,
   "id": "b534391c",
   "metadata": {},
   "outputs": [],
   "source": [
    "import numpy as np\n",
    "import pandas as pd\n",
    "import os\n",
    "from pathlib import Path \n",
    "from sklearn.decomposition import PCA\n",
    "from sklearn.model_selection import train_test_split\n",
    "from sklearn.pipeline import Pipeline\n",
    "from yellowbrick.cluster import SilhouetteVisualizer\n",
    "import matplotlib.pyplot as plt \n",
    "from sklearn.cluster import DBSCAN"
   ]
  },
  {
   "cell_type": "code",
   "execution_count": 2,
   "id": "0babbd47",
   "metadata": {},
   "outputs": [],
   "source": [
    "def pca_dbscan(df):\n",
    "    df = 'df'\n",
    "    path = Path(os.getcwd()) \n",
    "    p_parent = path.parent\n",
    "    data_path = str(p_parent) + r\"\\data\" + \"\\\\\" + str(df) + \".csv\"\n",
    "    df = pd.read_csv(str(data_path)).set_index(\"customer_unique_id\")    \n",
    "    clean_dataset(df)\n",
    "\n",
    "    X = df.values\n",
    "\n",
    "    # Perform ACP\n",
    "    pca = PCA()\n",
    "    pca_components = pca.fit_transform(X)\n",
    "\n",
    "    # Choose the best epsilon using the elbow method\n",
    "    epsilon = np.arange(0.1, 1, 0.1)\n",
    "    sse = []\n",
    "    for e in epsilon:\n",
    "        dbscan = DBSCAN(eps=e)\n",
    "        dbscan.fit(pca_components)\n",
    "        labels = dbscan.labels_\n",
    "        n_clusters = len(set(labels)) - (1 if -1 in labels else 0)\n",
    "        sse.append(n_clusters)\n",
    "    plt.plot(epsilon, sse)\n",
    "    plt.xlabel('Epsilon')\n",
    "    plt.ylabel('Number of clusters')\n",
    "    plt.show()\n",
    "\n",
    "    # Choose the best epsilon\n",
    "    eps = 0.5\n",
    "\n",
    "    # Perform DBSCAN clustering\n",
    "    dbscan = DBSCAN(eps=eps)\n",
    "    dbscan.fit(pca_components)\n",
    "    labels = dbscan.labels_\n",
    "\n",
    "    # Evaluate the clustering results using the silhouette score and Davies-Bouldin score\n",
    "    silhouette = silhouette_score(pca_components, labels)\n",
    "    davies = davies_bouldin_score(pca_components, labels)\n",
    "    print(\"Silhouette Score: {:.2f}\".format(silhouette))\n",
    "    print(\"Davies-Bouldin Score: {:.2f}\".format(davies))\n",
    "\n",
    "    # Display the silhouette visualization\n",
    "    visualizer = SilhouetteVisualizer(dbscan)\n",
    "    visualizer.fit(pca_components)\n",
    "    visualizer.show()\n"
   ]
  },
  {
   "cell_type": "code",
   "execution_count": null,
   "id": "9a767666",
   "metadata": {},
   "outputs": [],
   "source": []
  }
 ],
 "metadata": {
  "kernelspec": {
   "display_name": "Python 3 (ipykernel)",
   "language": "python",
   "name": "python3"
  },
  "language_info": {
   "codemirror_mode": {
    "name": "ipython",
    "version": 3
   },
   "file_extension": ".py",
   "mimetype": "text/x-python",
   "name": "python",
   "nbconvert_exporter": "python",
   "pygments_lexer": "ipython3",
   "version": "3.9.13"
  }
 },
 "nbformat": 4,
 "nbformat_minor": 5
}
