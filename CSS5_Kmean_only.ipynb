{
 "cells": [
  {
   "cell_type": "code",
   "execution_count": 25,
   "id": "69ea11e6",
   "metadata": {},
   "outputs": [],
   "source": [
    "import numpy as np\n",
    "import pandas as pd\n",
    "import os\n",
    "from pathlib import Path\n",
    "from fanalysis.pca import PCA\n",
    "from sklearn.cluster import KMeans\n",
    "from sklearn import preprocessing, metrics, model_selection, pipeline, compose\n",
    "from yellowbrick.cluster import KElbowVisualizer, SilhouetteVisualizer, InterclusterDistance\n",
    "import matplotlib.pyplot as plt \n",
    "import missingno as msno\n",
    "import scipy.cluster.hierarchy as shc\n",
    "import seaborn as sns\n",
    "import scipy.stats as stats\n",
    "import time\n",
    "import math\n",
    "from mpl_toolkits.mplot3d import Axes3D\n",
    "from matplotlib import cm\n",
    "from sklearn.datasets import make_blobs\n",
    "from sklearn.preprocessing import StandardScaler, MinMaxScaler"
   ]
  },
  {
   "cell_type": "code",
   "execution_count": 26,
   "id": "cf23ce19",
   "metadata": {},
   "outputs": [],
   "source": [
    "def clean_dataset(df):\n",
    "    assert isinstance(df, pd.DataFrame), \"df needs to be a pd.DataFrame\"\n",
    "    df.dropna(inplace=True)\n",
    "    indices_to_keep = ~df.isin([np.nan, np.inf, -np.inf]).any(1)\n",
    "    return df[indices_to_keep].astype(np.float64)\n",
    "\n",
    "def read_clean_csv (df) : \n",
    "    path = Path(os.getcwd()) \n",
    "    p_parent = path.parent\n",
    "    data_path = str(p_parent) + r\"\\data\" + \"\\\\\" + str(df) + \".csv\"\n",
    "    df = pd.read_csv(str(data_path)).set_index(\"customer_unique_id\")    \n",
    "    clean_dataset(df)\n",
    "    return df\n",
    "\n",
    "def save_as(df, file_name) : \n",
    "    path = Path(os.getcwd()) \n",
    "    p_parent = path.parent\n",
    "    data_path = str(p_parent) + r\"\\data\" + \"\\\\\" + file_name + \".csv\"\n",
    "    df.to_csv(data_path, index = False)"
   ]
  },
  {
   "cell_type": "code",
   "execution_count": 27,
   "id": "4dcb418d",
   "metadata": {},
   "outputs": [
    {
     "ename": "NameError",
     "evalue": "name 'css6' is not defined",
     "output_type": "error",
     "traceback": [
      "\u001b[1;31m---------------------------------------------------------------------------\u001b[0m",
      "\u001b[1;31mNameError\u001b[0m                                 Traceback (most recent call last)",
      "Input \u001b[1;32mIn [27]\u001b[0m, in \u001b[0;36m<cell line: 5>\u001b[1;34m()\u001b[0m\n\u001b[0;32m      2\u001b[0m p_parent \u001b[38;5;241m=\u001b[39m path\u001b[38;5;241m.\u001b[39mparent\n\u001b[0;32m      3\u001b[0m css5 \u001b[38;5;241m=\u001b[39m \u001b[38;5;28mstr\u001b[39m(p_parent) \u001b[38;5;241m+\u001b[39m \u001b[38;5;124m'\u001b[39m\u001b[38;5;124m\\\u001b[39m\u001b[38;5;124mdata\u001b[39m\u001b[38;5;124m\\\u001b[39m\u001b[38;5;124mcss6.csv\u001b[39m\u001b[38;5;124m'\u001b[39m\n\u001b[1;32m----> 5\u001b[0m css5 \u001b[38;5;241m=\u001b[39m pd\u001b[38;5;241m.\u001b[39mread_csv(\u001b[43mcss6\u001b[49m)\\\n\u001b[0;32m      6\u001b[0m \u001b[38;5;241m.\u001b[39mset_index(\u001b[38;5;124m\"\u001b[39m\u001b[38;5;124mcustomer_unique_id\u001b[39m\u001b[38;5;124m\"\u001b[39m)\n\u001b[0;32m      8\u001b[0m clean_dataset(css6)\n\u001b[0;32m     10\u001b[0m css5\u001b[38;5;241m.\u001b[39mdrop(columns\u001b[38;5;241m=\u001b[39m[\u001b[38;5;124m'\u001b[39m\u001b[38;5;124mnot_defined\u001b[39m\u001b[38;5;124m'\u001b[39m], inplace \u001b[38;5;241m=\u001b[39m \u001b[38;5;28;01mTrue\u001b[39;00m)\n",
      "\u001b[1;31mNameError\u001b[0m: name 'css6' is not defined"
     ]
    }
   ],
   "source": [
    "path = Path(os.getcwd()) \n",
    "p_parent = path.parent\n",
    "css6 = str(p_parent) + '\\data\\css6.csv'\n",
    "\n",
    "css6 = pd.read_csv(css6)\\\n",
    ".set_index(\"customer_unique_id\")\n",
    "\n",
    "clean_dataset(css6)\n",
    "\n",
    "css5.drop(columns=['not_defined'], inplace = True)"
   ]
  },
  {
   "cell_type": "code",
   "execution_count": null,
   "id": "388f6f3a",
   "metadata": {},
   "outputs": [],
   "source": [
    "# normalisation MinMax\n",
    "#scaler = MinMaxScaler()\n",
    "scaler = StandardScaler()\n",
    "segmentation_std = scaler.fit_transform(css6)"
   ]
  },
  {
   "cell_type": "code",
   "execution_count": null,
   "id": "571964bf",
   "metadata": {},
   "outputs": [],
   "source": [
    "wcss = []\n",
    "for i in range(2,12):\n",
    "    kmeans_pca = KMeans(n_clusters = i, init = 'k-means++', random_state=42)\n",
    "    kmeans_pca.fit(segmentation_std)\n",
    "    wcss.append(kmeans_pca.inertia_)\n",
    "    \n",
    "fig, ax = plt.subplots(figsize=(10,8))\n",
    "ax.plot(range(2,12),wcss, marker = 'o', linestyle ='--')\n",
    "ax.set_xlabel(\"Nb. clusters\")\n",
    "ax.set_ylabel(\"WCSS\")\n",
    "plt.title(\"Kmean with PCA clustering\")\n",
    "plt.show()"
   ]
  },
  {
   "cell_type": "code",
   "execution_count": null,
   "id": "c90db51d",
   "metadata": {},
   "outputs": [],
   "source": [
    "# Perform K-Means clustering\n",
    "n_clusters = 4\n",
    "kmean_pca = KMeans(n_clusters = n_clusters, init = 'k-means++', random_state=42)\n",
    "kmean_pca.fit(segmentation_std)"
   ]
  },
  {
   "cell_type": "code",
   "execution_count": null,
   "id": "1ebdfbda",
   "metadata": {},
   "outputs": [],
   "source": [
    "#col_name = []\n",
    "#for i in range(1,n_components+1):\n",
    "#    name = \"Componant \" + str(i)\n",
    "#    col_name.append(name)\n",
    "\n",
    "df_segm_pca_kmeans = pd.concat([css5.reset_index(drop = True), pd.DataFrame(segmentation_std)], axis = 1)\n",
    "\n",
    "df_segm_pca_kmeans['Segment K-means PCA'] = kmean_pca.labels_"
   ]
  },
  {
   "cell_type": "code",
   "execution_count": null,
   "id": "248b4179",
   "metadata": {},
   "outputs": [],
   "source": [
    "df_segm_pca_kmeans.describe()"
   ]
  },
  {
   "cell_type": "code",
   "execution_count": null,
   "id": "12593baf",
   "metadata": {},
   "outputs": [],
   "source": [
    "df_segm_pca_kmeans['Segment'] = df_segm_pca_kmeans['Segment K-means PCA'].map({0:'first',\n",
    "                                                                             1:'second',\n",
    "                                                                             2:'third',\n",
    "                                                                             3: 'fourth',\n",
    "                                                                             4: 'fifth'\n",
    "                                                                             })\n",
    "\n",
    "x_axis = df_segm_pca_kmeans['Componant 2']\n",
    "y_axis = df_segm_pca_kmeans['Componant 1']\n",
    "z_axis = df_segm_pca_kmeans['Componant 3']\n",
    "\n",
    "\n",
    "plt.style.use('default')\n",
    "plt.figure(figsize =(10,8))\n",
    "sns.scatterplot(x_axis, y_axis, hue = df_segm_pca_kmeans['Segment'], palette = ['g', 'r', 'c','m', 'y'])\n",
    "plt.title('Cluster by PCA components')\n",
    "plt.show()\n",
    "\n",
    "plt.figure(figsize =(10,8))\n",
    "sns.scatterplot(y_axis, z_axis, hue = df_segm_pca_kmeans['Segment'], palette = ['g', 'r', 'c','m', 'y'])\n",
    "plt.title('Cluster by PCA components')\n",
    "plt.show()\n",
    "\n",
    "plt.figure(figsize =(10,8))\n",
    "sns.scatterplot(x_axis, z_axis, hue = df_segm_pca_kmeans['Segment'], palette = ['g', 'r', 'c','m', 'y'])\n",
    "plt.title('Cluster by PCA components')\n",
    "plt.show()"
   ]
  },
  {
   "cell_type": "code",
   "execution_count": null,
   "id": "c7d0fcd1",
   "metadata": {},
   "outputs": [],
   "source": []
  }
 ],
 "metadata": {
  "kernelspec": {
   "display_name": "Python 3 (ipykernel)",
   "language": "python",
   "name": "python3"
  },
  "language_info": {
   "codemirror_mode": {
    "name": "ipython",
    "version": 3
   },
   "file_extension": ".py",
   "mimetype": "text/x-python",
   "name": "python",
   "nbconvert_exporter": "python",
   "pygments_lexer": "ipython3",
   "version": "3.9.12"
  }
 },
 "nbformat": 4,
 "nbformat_minor": 5
}
