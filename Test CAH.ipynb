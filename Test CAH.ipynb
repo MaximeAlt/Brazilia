{
 "cells": [
  {
   "cell_type": "code",
   "execution_count": 10,
   "id": "5f9ab7e5",
   "metadata": {},
   "outputs": [],
   "source": [
    "import pandas as pd\n",
    "import numpy as np\n",
    "from sklearn import preprocessing\n",
    "import matplotlib.pyplot as plt\n",
    "from scipy.cluster.hierarchy import dendrogram, linkage, fcluster"
   ]
  },
  {
   "cell_type": "code",
   "execution_count": 4,
   "id": "2cecb670",
   "metadata": {},
   "outputs": [],
   "source": [
    "data = pd.read_csv(r'C:\\Users\\Maxime.ALTER\\ProjetFinal\\data\\kmean_Data.csv')\\\n",
    ".set_index(\"customer_unique_id\")"
   ]
  },
  {
   "cell_type": "code",
   "execution_count": 5,
   "id": "cd98bfbb",
   "metadata": {},
   "outputs": [
    {
     "name": "stdout",
     "output_type": "stream",
     "text": [
      "(92753, 7)\n"
     ]
    }
   ],
   "source": [
    "print(data.shape)"
   ]
  },
  {
   "cell_type": "code",
   "execution_count": 6,
   "id": "57e4b010",
   "metadata": {},
   "outputs": [
    {
     "data": {
      "text/html": [
       "<div>\n",
       "<style scoped>\n",
       "    .dataframe tbody tr th:only-of-type {\n",
       "        vertical-align: middle;\n",
       "    }\n",
       "\n",
       "    .dataframe tbody tr th {\n",
       "        vertical-align: top;\n",
       "    }\n",
       "\n",
       "    .dataframe thead th {\n",
       "        text-align: right;\n",
       "    }\n",
       "</style>\n",
       "<table border=\"1\" class=\"dataframe\">\n",
       "  <thead>\n",
       "    <tr style=\"text-align: right;\">\n",
       "      <th></th>\n",
       "      <th>total_spend</th>\n",
       "      <th>review_id</th>\n",
       "      <th>mean_review</th>\n",
       "      <th>total_nb_sellers</th>\n",
       "      <th>erreur_estimation_livraison</th>\n",
       "      <th>temps_commande_livraison</th>\n",
       "      <th>buy_freq</th>\n",
       "    </tr>\n",
       "    <tr>\n",
       "      <th>customer_unique_id</th>\n",
       "      <th></th>\n",
       "      <th></th>\n",
       "      <th></th>\n",
       "      <th></th>\n",
       "      <th></th>\n",
       "      <th></th>\n",
       "      <th></th>\n",
       "    </tr>\n",
       "  </thead>\n",
       "  <tbody>\n",
       "    <tr>\n",
       "      <th>0000366f3b9a7992bf8c76cfdf3221e2</th>\n",
       "      <td>129.90</td>\n",
       "      <td>1</td>\n",
       "      <td>5.0</td>\n",
       "      <td>1</td>\n",
       "      <td>99.189722</td>\n",
       "      <td>153.869444</td>\n",
       "      <td>0.0</td>\n",
       "    </tr>\n",
       "    <tr>\n",
       "      <th>0000b849f77a49e4a4ce2b2a4ca5be3f</th>\n",
       "      <td>18.90</td>\n",
       "      <td>1</td>\n",
       "      <td>4.0</td>\n",
       "      <td>1</td>\n",
       "      <td>101.955000</td>\n",
       "      <td>78.854167</td>\n",
       "      <td>0.0</td>\n",
       "    </tr>\n",
       "    <tr>\n",
       "      <th>0000f46a3911fa3c0805444483337064</th>\n",
       "      <td>69.00</td>\n",
       "      <td>1</td>\n",
       "      <td>3.0</td>\n",
       "      <td>1</td>\n",
       "      <td>33.353611</td>\n",
       "      <td>617.562222</td>\n",
       "      <td>0.0</td>\n",
       "    </tr>\n",
       "    <tr>\n",
       "      <th>0000f6ccb0745a6a4b88665a16c9f078</th>\n",
       "      <td>25.99</td>\n",
       "      <td>1</td>\n",
       "      <td>4.0</td>\n",
       "      <td>1</td>\n",
       "      <td>266.615278</td>\n",
       "      <td>480.890000</td>\n",
       "      <td>0.0</td>\n",
       "    </tr>\n",
       "    <tr>\n",
       "      <th>0004aac84e0df4da2b147fca70cf8255</th>\n",
       "      <td>180.00</td>\n",
       "      <td>1</td>\n",
       "      <td>5.0</td>\n",
       "      <td>1</td>\n",
       "      <td>168.851111</td>\n",
       "      <td>315.387222</td>\n",
       "      <td>0.0</td>\n",
       "    </tr>\n",
       "    <tr>\n",
       "      <th>...</th>\n",
       "      <td>...</td>\n",
       "      <td>...</td>\n",
       "      <td>...</td>\n",
       "      <td>...</td>\n",
       "      <td>...</td>\n",
       "      <td>...</td>\n",
       "      <td>...</td>\n",
       "    </tr>\n",
       "    <tr>\n",
       "      <th>fffcf5a5ff07b0908bd4e2dbc735a684</th>\n",
       "      <td>1570.00</td>\n",
       "      <td>1</td>\n",
       "      <td>5.0</td>\n",
       "      <td>1</td>\n",
       "      <td>638.633333</td>\n",
       "      <td>660.356667</td>\n",
       "      <td>0.0</td>\n",
       "    </tr>\n",
       "    <tr>\n",
       "      <th>fffea47cd6d3cc0a88bd621562a9d061</th>\n",
       "      <td>64.89</td>\n",
       "      <td>1</td>\n",
       "      <td>4.0</td>\n",
       "      <td>1</td>\n",
       "      <td>49.527778</td>\n",
       "      <td>722.340000</td>\n",
       "      <td>0.0</td>\n",
       "    </tr>\n",
       "    <tr>\n",
       "      <th>ffff371b4d645b6ecea244b27531430a</th>\n",
       "      <td>89.90</td>\n",
       "      <td>1</td>\n",
       "      <td>5.0</td>\n",
       "      <td>1</td>\n",
       "      <td>707.248889</td>\n",
       "      <td>356.930000</td>\n",
       "      <td>0.0</td>\n",
       "    </tr>\n",
       "    <tr>\n",
       "      <th>ffff5962728ec6157033ef9805bacc48</th>\n",
       "      <td>115.00</td>\n",
       "      <td>1</td>\n",
       "      <td>5.0</td>\n",
       "      <td>1</td>\n",
       "      <td>324.092778</td>\n",
       "      <td>284.612500</td>\n",
       "      <td>0.0</td>\n",
       "    </tr>\n",
       "    <tr>\n",
       "      <th>ffffd2657e2aad2907e67c3e9daecbeb</th>\n",
       "      <td>56.99</td>\n",
       "      <td>1</td>\n",
       "      <td>5.0</td>\n",
       "      <td>1</td>\n",
       "      <td>374.436667</td>\n",
       "      <td>181.250833</td>\n",
       "      <td>0.0</td>\n",
       "    </tr>\n",
       "  </tbody>\n",
       "</table>\n",
       "<p>92753 rows × 7 columns</p>\n",
       "</div>"
      ],
      "text/plain": [
       "                                  total_spend  review_id  mean_review  \\\n",
       "customer_unique_id                                                      \n",
       "0000366f3b9a7992bf8c76cfdf3221e2       129.90          1          5.0   \n",
       "0000b849f77a49e4a4ce2b2a4ca5be3f        18.90          1          4.0   \n",
       "0000f46a3911fa3c0805444483337064        69.00          1          3.0   \n",
       "0000f6ccb0745a6a4b88665a16c9f078        25.99          1          4.0   \n",
       "0004aac84e0df4da2b147fca70cf8255       180.00          1          5.0   \n",
       "...                                       ...        ...          ...   \n",
       "fffcf5a5ff07b0908bd4e2dbc735a684      1570.00          1          5.0   \n",
       "fffea47cd6d3cc0a88bd621562a9d061        64.89          1          4.0   \n",
       "ffff371b4d645b6ecea244b27531430a        89.90          1          5.0   \n",
       "ffff5962728ec6157033ef9805bacc48       115.00          1          5.0   \n",
       "ffffd2657e2aad2907e67c3e9daecbeb        56.99          1          5.0   \n",
       "\n",
       "                                  total_nb_sellers  \\\n",
       "customer_unique_id                                   \n",
       "0000366f3b9a7992bf8c76cfdf3221e2                 1   \n",
       "0000b849f77a49e4a4ce2b2a4ca5be3f                 1   \n",
       "0000f46a3911fa3c0805444483337064                 1   \n",
       "0000f6ccb0745a6a4b88665a16c9f078                 1   \n",
       "0004aac84e0df4da2b147fca70cf8255                 1   \n",
       "...                                            ...   \n",
       "fffcf5a5ff07b0908bd4e2dbc735a684                 1   \n",
       "fffea47cd6d3cc0a88bd621562a9d061                 1   \n",
       "ffff371b4d645b6ecea244b27531430a                 1   \n",
       "ffff5962728ec6157033ef9805bacc48                 1   \n",
       "ffffd2657e2aad2907e67c3e9daecbeb                 1   \n",
       "\n",
       "                                  erreur_estimation_livraison  \\\n",
       "customer_unique_id                                              \n",
       "0000366f3b9a7992bf8c76cfdf3221e2                    99.189722   \n",
       "0000b849f77a49e4a4ce2b2a4ca5be3f                   101.955000   \n",
       "0000f46a3911fa3c0805444483337064                    33.353611   \n",
       "0000f6ccb0745a6a4b88665a16c9f078                   266.615278   \n",
       "0004aac84e0df4da2b147fca70cf8255                   168.851111   \n",
       "...                                                       ...   \n",
       "fffcf5a5ff07b0908bd4e2dbc735a684                   638.633333   \n",
       "fffea47cd6d3cc0a88bd621562a9d061                    49.527778   \n",
       "ffff371b4d645b6ecea244b27531430a                   707.248889   \n",
       "ffff5962728ec6157033ef9805bacc48                   324.092778   \n",
       "ffffd2657e2aad2907e67c3e9daecbeb                   374.436667   \n",
       "\n",
       "                                  temps_commande_livraison  buy_freq  \n",
       "customer_unique_id                                                    \n",
       "0000366f3b9a7992bf8c76cfdf3221e2                153.869444       0.0  \n",
       "0000b849f77a49e4a4ce2b2a4ca5be3f                 78.854167       0.0  \n",
       "0000f46a3911fa3c0805444483337064                617.562222       0.0  \n",
       "0000f6ccb0745a6a4b88665a16c9f078                480.890000       0.0  \n",
       "0004aac84e0df4da2b147fca70cf8255                315.387222       0.0  \n",
       "...                                                    ...       ...  \n",
       "fffcf5a5ff07b0908bd4e2dbc735a684                660.356667       0.0  \n",
       "fffea47cd6d3cc0a88bd621562a9d061                722.340000       0.0  \n",
       "ffff371b4d645b6ecea244b27531430a                356.930000       0.0  \n",
       "ffff5962728ec6157033ef9805bacc48                284.612500       0.0  \n",
       "ffffd2657e2aad2907e67c3e9daecbeb                181.250833       0.0  \n",
       "\n",
       "[92753 rows x 7 columns]"
      ]
     },
     "execution_count": 6,
     "metadata": {},
     "output_type": "execute_result"
    }
   ],
   "source": [
    "data"
   ]
  },
  {
   "cell_type": "code",
   "execution_count": 15,
   "id": "2ebf82ec",
   "metadata": {},
   "outputs": [
    {
     "name": "stdout",
     "output_type": "stream",
     "text": [
      "(92753, 7)\n"
     ]
    }
   ],
   "source": [
    "#centrage réduction des données\n",
    "\n",
    "data_cr = preprocessing.scale(data)\n",
    "print(data_cr.shape)"
   ]
  },
  {
   "cell_type": "code",
   "execution_count": 18,
   "id": "43401a4b",
   "metadata": {},
   "outputs": [
    {
     "ename": "MemoryError",
     "evalue": "Unable to allocate 32.0 GiB for an array with shape (4301513128,) and data type float64",
     "output_type": "error",
     "traceback": [
      "\u001b[1;31m---------------------------------------------------------------------------\u001b[0m",
      "\u001b[1;31mMemoryError\u001b[0m                               Traceback (most recent call last)",
      "Input \u001b[1;32mIn [18]\u001b[0m, in \u001b[0;36m<cell line: 2>\u001b[1;34m()\u001b[0m\n\u001b[0;32m      1\u001b[0m \u001b[38;5;66;03m#générer la matrice des liens\u001b[39;00m\n\u001b[1;32m----> 2\u001b[0m matrice \u001b[38;5;241m=\u001b[39m \u001b[43mlinkage\u001b[49m\u001b[43m(\u001b[49m\u001b[43mdata_cr\u001b[49m\u001b[43m,\u001b[49m\u001b[43mmethod\u001b[49m\u001b[38;5;241;43m=\u001b[39;49m\u001b[38;5;124;43m'\u001b[39;49m\u001b[38;5;124;43mward\u001b[39;49m\u001b[38;5;124;43m'\u001b[39;49m\u001b[43m,\u001b[49m\u001b[43mmetric\u001b[49m\u001b[38;5;241;43m=\u001b[39;49m\u001b[38;5;124;43m'\u001b[39;49m\u001b[38;5;124;43meuclidean\u001b[39;49m\u001b[38;5;124;43m'\u001b[39;49m\u001b[43m)\u001b[49m\n",
      "File \u001b[1;32mC:\\ProgramData\\Anaconda3\\lib\\site-packages\\scipy\\cluster\\hierarchy.py:1060\u001b[0m, in \u001b[0;36mlinkage\u001b[1;34m(y, method, metric, optimal_ordering)\u001b[0m\n\u001b[0;32m   1056\u001b[0m         \u001b[38;5;28;01mif\u001b[39;00m np\u001b[38;5;241m.\u001b[39mall(y \u001b[38;5;241m>\u001b[39m\u001b[38;5;241m=\u001b[39m \u001b[38;5;241m0\u001b[39m) \u001b[38;5;129;01mand\u001b[39;00m np\u001b[38;5;241m.\u001b[39mallclose(y, y\u001b[38;5;241m.\u001b[39mT):\n\u001b[0;32m   1057\u001b[0m             _warning(\u001b[38;5;124m'\u001b[39m\u001b[38;5;124mThe symmetric non-negative hollow observation \u001b[39m\u001b[38;5;124m'\u001b[39m\n\u001b[0;32m   1058\u001b[0m                      \u001b[38;5;124m'\u001b[39m\u001b[38;5;124mmatrix looks suspiciously like an uncondensed \u001b[39m\u001b[38;5;124m'\u001b[39m\n\u001b[0;32m   1059\u001b[0m                      \u001b[38;5;124m'\u001b[39m\u001b[38;5;124mdistance matrix\u001b[39m\u001b[38;5;124m'\u001b[39m)\n\u001b[1;32m-> 1060\u001b[0m     y \u001b[38;5;241m=\u001b[39m \u001b[43mdistance\u001b[49m\u001b[38;5;241;43m.\u001b[39;49m\u001b[43mpdist\u001b[49m\u001b[43m(\u001b[49m\u001b[43my\u001b[49m\u001b[43m,\u001b[49m\u001b[43m \u001b[49m\u001b[43mmetric\u001b[49m\u001b[43m)\u001b[49m\n\u001b[0;32m   1061\u001b[0m \u001b[38;5;28;01melse\u001b[39;00m:\n\u001b[0;32m   1062\u001b[0m     \u001b[38;5;28;01mraise\u001b[39;00m \u001b[38;5;167;01mValueError\u001b[39;00m(\u001b[38;5;124m\"\u001b[39m\u001b[38;5;124m`y` must be 1 or 2 dimensional.\u001b[39m\u001b[38;5;124m\"\u001b[39m)\n",
      "File \u001b[1;32mC:\\ProgramData\\Anaconda3\\lib\\site-packages\\scipy\\spatial\\distance.py:2250\u001b[0m, in \u001b[0;36mpdist\u001b[1;34m(X, metric, out, **kwargs)\u001b[0m\n\u001b[0;32m   2248\u001b[0m \u001b[38;5;28;01mif\u001b[39;00m metric_info \u001b[38;5;129;01mis\u001b[39;00m \u001b[38;5;129;01mnot\u001b[39;00m \u001b[38;5;28;01mNone\u001b[39;00m:\n\u001b[0;32m   2249\u001b[0m     pdist_fn \u001b[38;5;241m=\u001b[39m metric_info\u001b[38;5;241m.\u001b[39mpdist_func\n\u001b[1;32m-> 2250\u001b[0m     \u001b[38;5;28;01mreturn\u001b[39;00m pdist_fn(X, out\u001b[38;5;241m=\u001b[39mout, \u001b[38;5;241m*\u001b[39m\u001b[38;5;241m*\u001b[39mkwargs)\n\u001b[0;32m   2251\u001b[0m \u001b[38;5;28;01melif\u001b[39;00m mstr\u001b[38;5;241m.\u001b[39mstartswith(\u001b[38;5;124m\"\u001b[39m\u001b[38;5;124mtest_\u001b[39m\u001b[38;5;124m\"\u001b[39m):\n\u001b[0;32m   2252\u001b[0m     metric_info \u001b[38;5;241m=\u001b[39m _TEST_METRICS\u001b[38;5;241m.\u001b[39mget(mstr, \u001b[38;5;28;01mNone\u001b[39;00m)\n",
      "\u001b[1;31mMemoryError\u001b[0m: Unable to allocate 32.0 GiB for an array with shape (4301513128,) and data type float64"
     ]
    }
   ],
   "source": [
    "#générer la matrice des liens\n",
    "matrice = linkage(data_cr,method='ward',metric='euclidean')"
   ]
  },
  {
   "cell_type": "code",
   "execution_count": 17,
   "id": "d9b0c926",
   "metadata": {},
   "outputs": [
    {
     "ename": "NameError",
     "evalue": "name 'matrice' is not defined",
     "output_type": "error",
     "traceback": [
      "\u001b[1;31m---------------------------------------------------------------------------\u001b[0m",
      "\u001b[1;31mNameError\u001b[0m                                 Traceback (most recent call last)",
      "Input \u001b[1;32mIn [17]\u001b[0m, in \u001b[0;36m<cell line: 2>\u001b[1;34m()\u001b[0m\n\u001b[0;32m      1\u001b[0m plt\u001b[38;5;241m.\u001b[39mtitle(\u001b[38;5;124m\"\u001b[39m\u001b[38;5;124mCAH\u001b[39m\u001b[38;5;124m\"\u001b[39m)\n\u001b[1;32m----> 2\u001b[0m dendrogram(\u001b[43mmatrice\u001b[49m,labels\u001b[38;5;241m=\u001b[39mdata\u001b[38;5;241m.\u001b[39mindex,orientation\u001b[38;5;241m=\u001b[39m\u001b[38;5;124m'\u001b[39m\u001b[38;5;124mleft\u001b[39m\u001b[38;5;124m'\u001b[39m,color_threshold\u001b[38;5;241m=\u001b[39m\u001b[38;5;241m0\u001b[39m)\n\u001b[0;32m      3\u001b[0m plt\u001b[38;5;241m.\u001b[39mshow()\n",
      "\u001b[1;31mNameError\u001b[0m: name 'matrice' is not defined"
     ]
    },
    {
     "data": {
      "image/png": "[encoded data removed]",
      "text/plain": [
       "<Figure size 432x288 with 1 Axes>"
      ]
     },
     "metadata": {
      "needs_background": "light"
     },
     "output_type": "display_data"
    }
   ],
   "source": [
    "plt.title(\"CAH\")\n",
    "dendrogram(matrice,labels=data.index,orientation='left',color_threshold=0)\n",
    "plt.show()"
   ]
  },
  {
   "cell_type": "code",
   "execution_count": null,
   "id": "d3e04b3d",
   "metadata": {},
   "outputs": [],
   "source": [
    "#matérialisation des 4 classes (hauteur t = 7)\n",
    "#On choisi un niveau égale à 7 pour découper l'arbre \n",
    "plt.title('CAH avec matérialisation des 4 classes')\n",
    "dendrogram(matrice,labels=data.index,orientation='left',color_threshold=7)\n",
    "plt.show()"
   ]
  },
  {
   "cell_type": "code",
   "execution_count": null,
   "id": "7a707e17",
   "metadata": {},
   "outputs": [],
   "source": []
  }
 ],
 "metadata": {
  "kernelspec": {
   "display_name": "Python 3 (ipykernel)",
   "language": "python",
   "name": "python3"
  },
  "language_info": {
   "codemirror_mode": {
    "name": "ipython",
    "version": 3
   },
   "file_extension": ".py",
   "mimetype": "text/x-python",
   "name": "python",
   "nbconvert_exporter": "python",
   "pygments_lexer": "ipython3",
   "version": "3.9.12"
  }
 },
 "nbformat": 4,
 "nbformat_minor": 5
}
