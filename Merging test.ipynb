{
 "cells": [
  {
   "cell_type": "code",
   "execution_count": 2,
   "id": "2c2f281b",
   "metadata": {},
   "outputs": [],
   "source": [
    "import pandas as pd\n",
    "import numpy as np\n",
    "import os\n",
    "from pathlib import Path \n",
    "import missingno as msno\n",
    "from tabulate import tabulate\n",
    "from statistics import median, mean, quantiles\n",
    "import pprint\n",
    "import matplotlib.pyplot as plt \n",
    "import matplotlib.cm as cm\n",
    "%matplotlib inline\n",
    "import seaborn as sns\n",
    "from sklearn.linear_model import LogisticRegression\n",
    "from datetime import datetime"
   ]
  },
  {
   "cell_type": "code",
   "execution_count": 74,
   "id": "f7625928",
   "metadata": {},
   "outputs": [],
   "source": [
    "path = Path(os.getcwd()) \n",
    "p_parent = path.parent\n",
    "p_customer = str(p_parent) + '\\data\\olist_customers_dataset.csv'\n",
    "p_geo = str(p_parent) + '\\data\\olist_geolocation_dataset.csv'\n",
    "p_order_item = str(p_parent) + '\\data\\olist_order_items_dataset.csv'\n",
    "p_order_payment = str(p_parent) + '\\data\\olist_order_payments_dataset.csv'\n",
    "p_order_review = str(p_parent) + '\\data\\olist_order_reviews_dataset.csv'\n",
    "p_orders = str(p_parent) + '\\data\\olist_orders_dataset.csv'\n",
    "p_products = str(p_parent) + '\\data\\olist_products_dataset.csv'\n",
    "p_sellers = str(p_parent) + '\\data\\olist_sellers_dataset.csv'\n",
    "p_category = str(p_parent) + '\\data\\product_category_name_translation.csv'\n",
    "\n",
    "customer = pd.read_csv(p_customer)\n",
    "geo = pd.read_csv(p_geo)\n",
    "order_item = pd.read_csv(p_order_item)\n",
    "order_payment = pd.read_csv(p_order_payment)\n",
    "order_review = pd.read_csv(p_order_review)\n",
    "orders = pd.read_csv(p_orders)\n",
    "products = pd.read_csv(p_products)\n",
    "sellers = pd.read_csv(p_sellers)\n",
    "category = pd.read_csv(p_category)"
   ]
  },
  {
   "cell_type": "code",
   "execution_count": 34,
   "id": "74b39445",
   "metadata": {},
   "outputs": [],
   "source": [
    "# Création d'un DF pour afficher les stats des données\n",
    "def tstats (data) :\n",
    "    output = []\n",
    "    for col in data.columns:\n",
    "    \n",
    "        nonNull  = len(data) - np.sum(pd.isna(data[col]))\n",
    "        nonNullprop = (nonNull / len(data[col]))*100\n",
    "        unique = data[col].nunique()\n",
    "        colType = str(data[col].dtype)\n",
    "        output.append([col, colType, nonNull, round(nonNullprop, 1) , unique])\n",
    "            \n",
    "    \n",
    "    df_stats = pd.DataFrame(output)\n",
    "    df_stats.columns = ['nom colonne','dtype', 'valeur non null',\"% de non null\", 'nb_unique']\n",
    "\n",
    "    print(tabulate(df_stats, headers='keys', tablefmt='psql'))"
   ]
  },
  {
   "cell_type": "code",
   "execution_count": 20,
   "id": "3c878bf1",
   "metadata": {},
   "outputs": [
    {
     "name": "stdout",
     "output_type": "stream",
     "text": [
      "<class 'pandas.core.frame.DataFrame'>\n",
      "RangeIndex: 112650 entries, 0 to 112649\n",
      "Data columns (total 7 columns):\n",
      " #   Column               Non-Null Count   Dtype  \n",
      "---  ------               --------------   -----  \n",
      " 0   order_id             112650 non-null  object \n",
      " 1   order_item_id        112650 non-null  int64  \n",
      " 2   product_id           112650 non-null  object \n",
      " 3   seller_id            112650 non-null  object \n",
      " 4   shipping_limit_date  112650 non-null  object \n",
      " 5   price                112650 non-null  float64\n",
      " 6   freight_value        112650 non-null  float64\n",
      "dtypes: float64(2), int64(1), object(4)\n",
      "memory usage: 6.0+ MB\n"
     ]
    }
   ],
   "source": [
    "order_item.info()"
   ]
  },
  {
   "cell_type": "code",
   "execution_count": 33,
   "id": "3e9d2772",
   "metadata": {
    "scrolled": false
   },
   "outputs": [
    {
     "name": "stdout",
     "output_type": "stream",
     "text": [
      "<class 'pandas.core.frame.DataFrame'>\n",
      "RangeIndex: 99441 entries, 0 to 99440\n",
      "Data columns (total 5 columns):\n",
      " #   Column                    Non-Null Count  Dtype \n",
      "---  ------                    --------------  ----- \n",
      " 0   customer_id               99441 non-null  object\n",
      " 1   customer_unique_id        99441 non-null  object\n",
      " 2   customer_zip_code_prefix  99441 non-null  int64 \n",
      " 3   customer_city             99441 non-null  object\n",
      " 4   customer_state            99441 non-null  object\n",
      "dtypes: int64(1), object(4)\n",
      "memory usage: 3.8+ MB\n"
     ]
    }
   ],
   "source": [
    "customer.info()"
   ]
  },
  {
   "cell_type": "code",
   "execution_count": 44,
   "id": "4aec5fe4",
   "metadata": {
    "scrolled": true
   },
   "outputs": [
    {
     "name": "stdout",
     "output_type": "stream",
     "text": [
      "<class 'pandas.core.frame.DataFrame'>\n",
      "RangeIndex: 103886 entries, 0 to 103885\n",
      "Data columns (total 5 columns):\n",
      " #   Column                Non-Null Count   Dtype  \n",
      "---  ------                --------------   -----  \n",
      " 0   order_id              103886 non-null  object \n",
      " 1   payment_sequential    103886 non-null  int64  \n",
      " 2   payment_type          103886 non-null  object \n",
      " 3   payment_installments  103886 non-null  int64  \n",
      " 4   payment_value         103886 non-null  float64\n",
      "dtypes: float64(1), int64(2), object(2)\n",
      "memory usage: 4.0+ MB\n"
     ]
    }
   ],
   "source": [
    "order_payment.info()"
   ]
  },
  {
   "cell_type": "code",
   "execution_count": 45,
   "id": "3dc9530c",
   "metadata": {},
   "outputs": [
    {
     "name": "stdout",
     "output_type": "stream",
     "text": [
      "<class 'pandas.core.frame.DataFrame'>\n",
      "RangeIndex: 99441 entries, 0 to 99440\n",
      "Data columns (total 8 columns):\n",
      " #   Column                         Non-Null Count  Dtype \n",
      "---  ------                         --------------  ----- \n",
      " 0   order_id                       99441 non-null  object\n",
      " 1   customer_id                    99441 non-null  object\n",
      " 2   order_status                   99441 non-null  object\n",
      " 3   order_purchase_timestamp       99441 non-null  object\n",
      " 4   order_approved_at              99281 non-null  object\n",
      " 5   order_delivered_carrier_date   97658 non-null  object\n",
      " 6   order_delivered_customer_date  96476 non-null  object\n",
      " 7   order_estimated_delivery_date  99441 non-null  object\n",
      "dtypes: object(8)\n",
      "memory usage: 6.1+ MB\n"
     ]
    }
   ],
   "source": [
    "orders.info()"
   ]
  },
  {
   "cell_type": "code",
   "execution_count": 46,
   "id": "ef71d8b6",
   "metadata": {},
   "outputs": [
    {
     "name": "stdout",
     "output_type": "stream",
     "text": [
      "<class 'pandas.core.frame.DataFrame'>\n",
      "RangeIndex: 99224 entries, 0 to 99223\n",
      "Data columns (total 7 columns):\n",
      " #   Column                   Non-Null Count  Dtype \n",
      "---  ------                   --------------  ----- \n",
      " 0   review_id                99224 non-null  object\n",
      " 1   order_id                 99224 non-null  object\n",
      " 2   review_score             99224 non-null  int64 \n",
      " 3   review_comment_title     11568 non-null  object\n",
      " 4   review_comment_message   40977 non-null  object\n",
      " 5   review_creation_date     99224 non-null  object\n",
      " 6   review_answer_timestamp  99224 non-null  object\n",
      "dtypes: int64(1), object(6)\n",
      "memory usage: 5.3+ MB\n"
     ]
    }
   ],
   "source": [
    "order_review.info()"
   ]
  },
  {
   "cell_type": "code",
   "execution_count": 47,
   "id": "82d86b8c",
   "metadata": {},
   "outputs": [
    {
     "name": "stdout",
     "output_type": "stream",
     "text": [
      "<class 'pandas.core.frame.DataFrame'>\n",
      "RangeIndex: 3095 entries, 0 to 3094\n",
      "Data columns (total 4 columns):\n",
      " #   Column                  Non-Null Count  Dtype \n",
      "---  ------                  --------------  ----- \n",
      " 0   seller_id               3095 non-null   object\n",
      " 1   seller_zip_code_prefix  3095 non-null   int64 \n",
      " 2   seller_city             3095 non-null   object\n",
      " 3   seller_state            3095 non-null   object\n",
      "dtypes: int64(1), object(3)\n",
      "memory usage: 96.8+ KB\n"
     ]
    }
   ],
   "source": [
    "sellers.info()"
   ]
  },
  {
   "cell_type": "code",
   "execution_count": 48,
   "id": "375bed30",
   "metadata": {},
   "outputs": [
    {
     "name": "stdout",
     "output_type": "stream",
     "text": [
      "<class 'pandas.core.frame.DataFrame'>\n",
      "RangeIndex: 32951 entries, 0 to 32950\n",
      "Data columns (total 9 columns):\n",
      " #   Column                      Non-Null Count  Dtype  \n",
      "---  ------                      --------------  -----  \n",
      " 0   product_id                  32951 non-null  object \n",
      " 1   product_category_name       32341 non-null  object \n",
      " 2   product_name_lenght         32341 non-null  float64\n",
      " 3   product_description_lenght  32341 non-null  float64\n",
      " 4   product_photos_qty          32341 non-null  float64\n",
      " 5   product_weight_g            32949 non-null  float64\n",
      " 6   product_length_cm           32949 non-null  float64\n",
      " 7   product_height_cm           32949 non-null  float64\n",
      " 8   product_width_cm            32949 non-null  float64\n",
      "dtypes: float64(7), object(2)\n",
      "memory usage: 2.3+ MB\n"
     ]
    }
   ],
   "source": [
    "products.info()"
   ]
  },
  {
   "cell_type": "code",
   "execution_count": 49,
   "id": "f7c1dc52",
   "metadata": {},
   "outputs": [
    {
     "name": "stdout",
     "output_type": "stream",
     "text": [
      "<class 'pandas.core.frame.DataFrame'>\n",
      "Int64Index: 99441 entries, 0 to 99440\n",
      "Data columns (total 12 columns):\n",
      " #   Column                         Non-Null Count  Dtype \n",
      "---  ------                         --------------  ----- \n",
      " 0   customer_id                    99441 non-null  object\n",
      " 1   customer_unique_id             99441 non-null  object\n",
      " 2   customer_zip_code_prefix       99441 non-null  int64 \n",
      " 3   customer_city                  99441 non-null  object\n",
      " 4   customer_state                 99441 non-null  object\n",
      " 5   order_id                       99441 non-null  object\n",
      " 6   order_status                   99441 non-null  object\n",
      " 7   order_purchase_timestamp       99441 non-null  object\n",
      " 8   order_approved_at              99281 non-null  object\n",
      " 9   order_delivered_carrier_date   97658 non-null  object\n",
      " 10  order_delivered_customer_date  96476 non-null  object\n",
      " 11  order_estimated_delivery_date  99441 non-null  object\n",
      "dtypes: int64(1), object(11)\n",
      "memory usage: 9.9+ MB\n"
     ]
    }
   ],
   "source": [
    "order_customer = orders.merge(customer, on=\"customer_id\", how ='right')\n",
    "order_customer.info()"
   ]
  },
  {
   "cell_type": "code",
   "execution_count": 52,
   "id": "0aba0573",
   "metadata": {},
   "outputs": [
    {
     "name": "stdout",
     "output_type": "stream",
     "text": [
      "<class 'pandas.core.frame.DataFrame'>\n",
      "Int64Index: 112650 entries, 0 to 112649\n",
      "Data columns (total 18 columns):\n",
      " #   Column                      Non-Null Count   Dtype  \n",
      "---  ------                      --------------   -----  \n",
      " 0   order_id                    112650 non-null  object \n",
      " 1   order_item_id               112650 non-null  int64  \n",
      " 2   product_id                  112650 non-null  object \n",
      " 3   seller_id                   112650 non-null  object \n",
      " 4   shipping_limit_date         112650 non-null  object \n",
      " 5   price                       112650 non-null  float64\n",
      " 6   freight_value               112650 non-null  float64\n",
      " 7   product_category_name       111047 non-null  object \n",
      " 8   product_name_lenght         111047 non-null  float64\n",
      " 9   product_description_lenght  111047 non-null  float64\n",
      " 10  product_photos_qty          111047 non-null  float64\n",
      " 11  product_weight_g            112632 non-null  float64\n",
      " 12  product_length_cm           112632 non-null  float64\n",
      " 13  product_height_cm           112632 non-null  float64\n",
      " 14  product_width_cm            112632 non-null  float64\n",
      " 15  seller_zip_code_prefix      112650 non-null  int64  \n",
      " 16  seller_city                 112650 non-null  object \n",
      " 17  seller_state                112650 non-null  object \n",
      "dtypes: float64(9), int64(2), object(7)\n",
      "memory usage: 16.3+ MB\n"
     ]
    }
   ],
   "source": [
    "orderItems_products = order_item.merge(products, on ='product_id', how ='left').merge(sellers, on='seller_id', how = \"left\")\n",
    "orderItems_products.info()"
   ]
  },
  {
   "cell_type": "code",
   "execution_count": 4,
   "id": "e0a2e44c",
   "metadata": {},
   "outputs": [
    {
     "name": "stdout",
     "output_type": "stream",
     "text": [
      "<class 'pandas.core.frame.DataFrame'>\n",
      "Int64Index: 99992 entries, 0 to 99991\n",
      "Data columns (total 14 columns):\n",
      " #   Column                         Non-Null Count  Dtype  \n",
      "---  ------                         --------------  -----  \n",
      " 0   order_id                       99992 non-null  object \n",
      " 1   customer_id                    99992 non-null  object \n",
      " 2   order_status                   99992 non-null  object \n",
      " 3   order_purchase_timestamp       99992 non-null  object \n",
      " 4   order_approved_at              99831 non-null  object \n",
      " 5   order_delivered_carrier_date   98199 non-null  object \n",
      " 6   order_delivered_customer_date  97005 non-null  object \n",
      " 7   order_estimated_delivery_date  99992 non-null  object \n",
      " 8   review_id                      99224 non-null  object \n",
      " 9   review_score                   99224 non-null  float64\n",
      " 10  review_comment_title           11568 non-null  object \n",
      " 11  review_comment_message         40977 non-null  object \n",
      " 12  review_creation_date           99224 non-null  object \n",
      " 13  review_answer_timestamp        99224 non-null  object \n",
      "dtypes: float64(1), object(13)\n",
      "memory usage: 11.4+ MB\n"
     ]
    }
   ],
   "source": [
    "order_review = orders.merge(order_review, on ='order_id', how ='left')\n",
    "order_review.info()"
   ]
  },
  {
   "cell_type": "code",
   "execution_count": 18,
   "id": "1a60d604",
   "metadata": {},
   "outputs": [
    {
     "name": "stdout",
     "output_type": "stream",
     "text": [
      "+----+---------------------------------+---------+-------------------+-----------------+-------------+\n",
      "|    | nom colonne                     | dtype   |   valeur non null |   % de non null |   nb_unique |\n",
      "|----+---------------------------------+---------+-------------------+-----------------+-------------|\n",
      "|  0 | order_id                        | object  |            119143 |           100   |       99441 |\n",
      "|  1 | customer_id_x                   | object  |            119143 |           100   |       99441 |\n",
      "|  2 | order_status_x                  | object  |            119143 |           100   |           8 |\n",
      "|  3 | order_purchase_timestamp_x      | object  |            119143 |           100   |       98875 |\n",
      "|  4 | order_approved_at_x             | object  |            118966 |            99.9 |       90733 |\n",
      "|  5 | order_delivered_carrier_date_x  | object  |            117057 |            98.2 |       81018 |\n",
      "|  6 | order_delivered_customer_date_x | object  |            115722 |            97.1 |       95664 |\n",
      "|  7 | order_estimated_delivery_date_x | object  |            119143 |           100   |         459 |\n",
      "|  8 | customer_unique_id              | object  |            119143 |           100   |       96096 |\n",
      "|  9 | customer_zip_code_prefix        | int64   |            119143 |           100   |       14994 |\n",
      "| 10 | customer_city                   | object  |            119143 |           100   |        4119 |\n",
      "| 11 | customer_state                  | object  |            119143 |           100   |          27 |\n",
      "| 12 | order_item_id                   | float64 |            118310 |            99.3 |          21 |\n",
      "| 13 | product_id                      | object  |            118310 |            99.3 |       32951 |\n",
      "| 14 | seller_id                       | object  |            118310 |            99.3 |        3095 |\n",
      "| 15 | shipping_limit_date             | object  |            118310 |            99.3 |       93318 |\n",
      "| 16 | price                           | float64 |            118310 |            99.3 |        5968 |\n",
      "| 17 | freight_value                   | float64 |            118310 |            99.3 |        6999 |\n",
      "| 18 | payment_sequential              | float64 |            119140 |           100   |          29 |\n",
      "| 19 | payment_type                    | object  |            119140 |           100   |           5 |\n",
      "| 20 | payment_installments            | float64 |            119140 |           100   |          24 |\n",
      "| 21 | payment_value                   | float64 |            119140 |           100   |       29077 |\n",
      "| 22 | customer_id_y                   | object  |            119143 |           100   |       99441 |\n",
      "| 23 | order_status_y                  | object  |            119143 |           100   |           8 |\n",
      "| 24 | order_purchase_timestamp_y      | object  |            119143 |           100   |       98875 |\n",
      "| 25 | order_approved_at_y             | object  |            118966 |            99.9 |       90733 |\n",
      "| 26 | order_delivered_carrier_date_y  | object  |            117057 |            98.2 |       81018 |\n",
      "| 27 | order_delivered_customer_date_y | object  |            115722 |            97.1 |       95664 |\n",
      "| 28 | order_estimated_delivery_date_y | object  |            119143 |           100   |         459 |\n",
      "| 29 | review_id                       | object  |            118146 |            99.2 |       98410 |\n",
      "| 30 | review_score                    | float64 |            118146 |            99.2 |           5 |\n",
      "| 31 | review_comment_title            | object  |             13989 |            11.7 |        4527 |\n",
      "| 32 | review_comment_message          | object  |             50245 |            42.2 |       36159 |\n",
      "| 33 | review_creation_date            | object  |            118146 |            99.2 |         636 |\n",
      "| 34 | review_answer_timestamp         | object  |            118146 |            99.2 |       98248 |\n",
      "| 35 | seller_zip_code_prefix          | float64 |            118310 |            99.3 |        2246 |\n",
      "| 36 | seller_city                     | object  |            118310 |            99.3 |         611 |\n",
      "| 37 | seller_state                    | object  |            118310 |            99.3 |          23 |\n",
      "| 38 | product_category_name           | object  |            116601 |            97.9 |          73 |\n",
      "| 39 | product_name_lenght             | float64 |            116601 |            97.9 |          66 |\n",
      "| 40 | product_description_lenght      | float64 |            116601 |            97.9 |        2960 |\n",
      "| 41 | product_photos_qty              | float64 |            116601 |            97.9 |          19 |\n",
      "| 42 | product_weight_g                | float64 |            118290 |            99.3 |        2204 |\n",
      "| 43 | product_length_cm               | float64 |            118290 |            99.3 |          99 |\n",
      "| 44 | product_height_cm               | float64 |            118290 |            99.3 |         102 |\n",
      "| 45 | product_width_cm                | float64 |            118290 |            99.3 |          95 |\n",
      "| 46 | product_category_name_english   | object  |            116576 |            97.8 |          71 |\n",
      "+----+---------------------------------+---------+-------------------+-----------------+-------------+\n"
     ]
    }
   ],
   "source": [
    "#version courte des merges de dbs\n",
    "df = orders.merge(customer, on=\"customer_id\", how ='left')\\\n",
    ".merge(order_item, on= \"order_id\", how = 'left')\\\n",
    ".merge(order_payment, on ='order_id', how ='left')\\\n",
    ".merge(order_review, on =\"order_id\", how=\"left\")\\\n",
    ".merge(sellers, on ='seller_id', how =\"left\")\\\n",
    ".merge(products, on = \"product_id\", how = 'left')\\\n",
    ".merge(category, on=\"product_category_name\", how=\"left\")\n",
    "\n",
    "tstats(df)"
   ]
  },
  {
   "cell_type": "code",
   "execution_count": 24,
   "id": "32dbd1e2",
   "metadata": {},
   "outputs": [
    {
     "name": "stdout",
     "output_type": "stream",
     "text": [
      "+----+---------------------------------+---------+-------------------+-----------------+-------------+\n",
      "|    | nom colonne                     | dtype   |   valeur non null |   % de non null |   nb_unique |\n",
      "|----+---------------------------------+---------+-------------------+-----------------+-------------|\n",
      "|  0 | order_id                        | object  |            119143 |           100   |       99441 |\n",
      "|  1 | customer_id_x                   | object  |            119143 |           100   |       99441 |\n",
      "|  2 | order_status_x                  | object  |            119143 |           100   |           8 |\n",
      "|  3 | order_purchase_timestamp_x      | object  |            119143 |           100   |       98875 |\n",
      "|  4 | order_approved_at_x             | object  |            118966 |            99.9 |       90733 |\n",
      "|  5 | order_delivered_carrier_date_x  | object  |            117057 |            98.2 |       81018 |\n",
      "|  6 | order_delivered_customer_date_x | object  |            115722 |            97.1 |       95664 |\n",
      "|  7 | order_estimated_delivery_date_x | object  |            119143 |           100   |         459 |\n",
      "|  8 | customer_unique_id              | object  |            119143 |           100   |       96096 |\n",
      "|  9 | customer_zip_code_prefix        | int64   |            119143 |           100   |       14994 |\n",
      "| 10 | customer_city                   | object  |            119143 |           100   |        4119 |\n",
      "| 11 | customer_state                  | object  |            119143 |           100   |          27 |\n",
      "| 12 | order_item_id                   | float64 |            118310 |            99.3 |          21 |\n",
      "| 13 | product_id                      | object  |            118310 |            99.3 |       32951 |\n",
      "| 14 | seller_id                       | object  |            118310 |            99.3 |        3095 |\n",
      "| 15 | shipping_limit_date             | object  |            118310 |            99.3 |       93318 |\n",
      "| 16 | price                           | float64 |            118310 |            99.3 |        5968 |\n",
      "| 17 | freight_value                   | float64 |            118310 |            99.3 |        6999 |\n",
      "| 18 | payment_sequential              | float64 |            119140 |           100   |          29 |\n",
      "| 19 | payment_type                    | object  |            119140 |           100   |           5 |\n",
      "| 20 | payment_installments            | float64 |            119140 |           100   |          24 |\n",
      "| 21 | payment_value                   | float64 |            119140 |           100   |       29077 |\n",
      "| 22 | customer_id_y                   | object  |            119143 |           100   |       99441 |\n",
      "| 23 | order_status_y                  | object  |            119143 |           100   |           8 |\n",
      "| 24 | order_purchase_timestamp_y      | object  |            119143 |           100   |       98875 |\n",
      "| 25 | order_approved_at_y             | object  |            118966 |            99.9 |       90733 |\n",
      "| 26 | order_delivered_carrier_date_y  | object  |            117057 |            98.2 |       81018 |\n",
      "| 27 | order_delivered_customer_date_y | object  |            115722 |            97.1 |       95664 |\n",
      "| 28 | order_estimated_delivery_date_y | object  |            119143 |           100   |         459 |\n",
      "| 29 | review_id                       | object  |            118146 |            99.2 |       98410 |\n",
      "| 30 | review_score                    | float64 |            118146 |            99.2 |           5 |\n",
      "| 31 | review_comment_title            | object  |             13989 |            11.7 |        4527 |\n",
      "| 32 | review_comment_message          | object  |             50245 |            42.2 |       36159 |\n",
      "| 33 | review_creation_date            | object  |            118146 |            99.2 |         636 |\n",
      "| 34 | review_answer_timestamp         | object  |            118146 |            99.2 |       98248 |\n",
      "| 35 | seller_zip_code_prefix          | float64 |            118310 |            99.3 |        2246 |\n",
      "| 36 | seller_city                     | object  |            118310 |            99.3 |         611 |\n",
      "| 37 | seller_state                    | object  |            118310 |            99.3 |          23 |\n",
      "| 38 | product_category_name           | object  |            116601 |            97.9 |          73 |\n",
      "| 39 | product_name_lenght             | float64 |            116601 |            97.9 |          66 |\n",
      "| 40 | product_description_lenght      | float64 |            116601 |            97.9 |        2960 |\n",
      "| 41 | product_photos_qty              | float64 |            116601 |            97.9 |          19 |\n",
      "| 42 | product_weight_g                | float64 |            118290 |            99.3 |        2204 |\n",
      "| 43 | product_length_cm               | float64 |            118290 |            99.3 |          99 |\n",
      "| 44 | product_height_cm               | float64 |            118290 |            99.3 |         102 |\n",
      "| 45 | product_width_cm                | float64 |            118290 |            99.3 |          95 |\n",
      "| 46 | product_category_name_english   | object  |            116576 |            97.8 |          71 |\n",
      "+----+---------------------------------+---------+-------------------+-----------------+-------------+\n"
     ]
    }
   ],
   "source": [
    "#version courte des merges de dbs\n",
    "df = orders.merge(customer, on=\"customer_id\", how ='outer')\\\n",
    ".merge(order_item, on= \"order_id\", how = 'outer')\\\n",
    ".merge(order_payment, on ='order_id', how ='outer')\\\n",
    ".merge(order_review, on =\"order_id\", how=\"outer\")\\\n",
    ".merge(sellers, on ='seller_id', how =\"outer\")\\\n",
    ".merge(products, on = \"product_id\", how = 'outer')\\\n",
    ".merge(category, on=\"product_category_name\", how=\"outer\")\n",
    "\n",
    "tstats(df)"
   ]
  },
  {
   "cell_type": "code",
   "execution_count": 41,
   "id": "6cd9d32e",
   "metadata": {
    "scrolled": true
   },
   "outputs": [
    {
     "name": "stdout",
     "output_type": "stream",
     "text": [
      "+----+-------------------------------+---------+-------------------+-----------------+-------------+\n",
      "|    | nom colonne                   | dtype   |   valeur non null |   % de non null |   nb_unique |\n",
      "|----+-------------------------------+---------+-------------------+-----------------+-------------|\n",
      "|  0 | order_id                      | object  |            115878 |           100   |       97255 |\n",
      "|  1 | order_item_id                 | int64   |            115878 |           100   |          21 |\n",
      "|  2 | product_id                    | object  |            115878 |           100   |       32328 |\n",
      "|  3 | seller_id                     | object  |            115878 |           100   |        3033 |\n",
      "|  4 | shipping_limit_date           | object  |            115878 |           100   |       92052 |\n",
      "|  5 | price                         | float64 |            115878 |           100   |        5899 |\n",
      "|  6 | freight_value                 | float64 |            115878 |           100   |        6977 |\n",
      "|  7 | customer_id                   | object  |            115878 |           100   |       97255 |\n",
      "|  8 | order_status                  | object  |            115878 |           100   |           7 |\n",
      "|  9 | order_purchase_timestamp      | object  |            115878 |           100   |       96720 |\n",
      "| 10 | order_approved_at             | object  |            115864 |           100   |       88963 |\n",
      "| 11 | order_delivered_carrier_date  | object  |            114673 |            99   |       79801 |\n",
      "| 12 | order_delivered_customer_date | object  |            113383 |            97.8 |       94336 |\n",
      "| 13 | order_estimated_delivery_date | object  |            115878 |           100   |         449 |\n",
      "| 14 | customer_unique_id            | object  |            115878 |           100   |       94087 |\n",
      "| 15 | customer_zip_code_prefix      | int64   |            115878 |           100   |       14927 |\n",
      "| 16 | customer_city                 | object  |            115878 |           100   |        4095 |\n",
      "| 17 | customer_state                | object  |            115878 |           100   |          27 |\n",
      "| 18 | payment_sequential            | int64   |            115878 |           100   |          29 |\n",
      "| 19 | payment_type                  | object  |            115878 |           100   |           4 |\n",
      "| 20 | payment_installments          | int64   |            115878 |           100   |          24 |\n",
      "| 21 | payment_value                 | float64 |            115878 |           100   |       28765 |\n",
      "| 22 | seller_zip_code_prefix        | int64   |            115878 |           100   |        2211 |\n",
      "| 23 | seller_city                   | object  |            115878 |           100   |         604 |\n",
      "| 24 | seller_state                  | object  |            115878 |           100   |          23 |\n",
      "| 25 | product_category_name         | object  |            115878 |           100   |          71 |\n",
      "| 26 | product_name_lenght           | float64 |            115878 |           100   |          66 |\n",
      "| 27 | product_description_lenght    | float64 |            115878 |           100   |        2960 |\n",
      "| 28 | product_photos_qty            | float64 |            115878 |           100   |          19 |\n",
      "| 29 | product_weight_g              | float64 |            115877 |           100   |        2201 |\n",
      "| 30 | product_length_cm             | float64 |            115877 |           100   |          99 |\n",
      "| 31 | product_height_cm             | float64 |            115877 |           100   |         102 |\n",
      "| 32 | product_width_cm              | float64 |            115877 |           100   |          95 |\n",
      "| 33 | product_category_name_english | object  |            115878 |           100   |          71 |\n",
      "+----+-------------------------------+---------+-------------------+-----------------+-------------+\n"
     ]
    }
   ],
   "source": [
    "#version courte des merges de dbs\n",
    "df = order_item.merge(orders, on=\"order_id\", how ='inner')\\\n",
    ".merge(customer, on= \"customer_id\", how = 'inner')\\\n",
    ".merge(order_payment, on ='order_id', how ='inner')\\\n",
    ".merge(sellers, on ='seller_id', how =\"inner\")\\\n",
    ".merge(products, on = \"product_id\", how = 'inner')\\\n",
    ".merge(category, on=\"product_category_name\", how=\"inner\")\\\n",
    "\n",
    "df.drop('customer_id', axis = 1)\n",
    "df.merge(order_review, on =\"order_id\", how=\"inner\")\n",
    "df= df.drop_duplicates()\n",
    "tstats(df)"
   ]
  },
  {
   "cell_type": "code",
   "execution_count": 35,
   "id": "daf60271",
   "metadata": {},
   "outputs": [
    {
     "name": "stdout",
     "output_type": "stream",
     "text": [
      "+----+-------------------------------+---------+-------------------+-----------------+-------------+\n",
      "|    | nom colonne                   | dtype   |   valeur non null |   % de non null |   nb_unique |\n",
      "|----+-------------------------------+---------+-------------------+-----------------+-------------|\n",
      "|  0 | order_id                      | object  |             99992 |           100   |       99441 |\n",
      "|  1 | customer_id                   | object  |             99992 |           100   |       99441 |\n",
      "|  2 | order_status                  | object  |             99992 |           100   |           8 |\n",
      "|  3 | order_purchase_timestamp      | object  |             99992 |           100   |       98875 |\n",
      "|  4 | order_approved_at             | object  |             99831 |            99.8 |       90733 |\n",
      "|  5 | order_delivered_carrier_date  | object  |             98199 |            98.2 |       81018 |\n",
      "|  6 | order_delivered_customer_date | object  |             97005 |            97   |       95664 |\n",
      "|  7 | order_estimated_delivery_date | object  |             99992 |           100   |         459 |\n",
      "|  8 | review_id                     | object  |             99224 |            99.2 |       98410 |\n",
      "|  9 | review_score                  | float64 |             99224 |            99.2 |           5 |\n",
      "| 10 | review_comment_title          | object  |             11568 |            11.6 |        4527 |\n",
      "| 11 | review_comment_message        | object  |             40977 |            41   |       36159 |\n",
      "| 12 | review_creation_date          | object  |             99224 |            99.2 |         636 |\n",
      "| 13 | review_answer_timestamp       | object  |             99224 |            99.2 |       98248 |\n",
      "+----+-------------------------------+---------+-------------------+-----------------+-------------+\n"
     ]
    }
   ],
   "source": [
    "tstats(order_review)"
   ]
  },
  {
   "cell_type": "code",
   "execution_count": 43,
   "id": "87aaf4c3",
   "metadata": {},
   "outputs": [
    {
     "name": "stdout",
     "output_type": "stream",
     "text": [
      "+----+-------------------------------+---------+-------------------+-----------------+-------------+\n",
      "|    | nom colonne                   | dtype   |   valeur non null |   % de non null |   nb_unique |\n",
      "|----+-------------------------------+---------+-------------------+-----------------+-------------|\n",
      "|  0 | order_id                      | object  |             99441 |           100   |       99441 |\n",
      "|  1 | customer_id                   | object  |             99441 |           100   |       99441 |\n",
      "|  2 | order_status                  | object  |             99441 |           100   |           8 |\n",
      "|  3 | order_purchase_timestamp      | object  |             99441 |           100   |       98875 |\n",
      "|  4 | order_approved_at             | object  |             99281 |            99.8 |       90733 |\n",
      "|  5 | order_delivered_carrier_date  | object  |             97658 |            98.2 |       81018 |\n",
      "|  6 | order_delivered_customer_date | object  |             96476 |            97   |       95664 |\n",
      "|  7 | order_estimated_delivery_date | object  |             99441 |           100   |         459 |\n",
      "+----+-------------------------------+---------+-------------------+-----------------+-------------+\n"
     ]
    }
   ],
   "source": [
    "tstats(orders)"
   ]
  },
  {
   "cell_type": "code",
   "execution_count": 46,
   "id": "60eb2283",
   "metadata": {},
   "outputs": [],
   "source": [
    "order_review_test = order_review.drop([\"review_id\"\n",
    "                                      , \"review_score\"\n",
    "                                      , \"review_comment_title\"\n",
    "                                      , \"review_comment_message\"\n",
    "                                      , \"review_creation_date\"\n",
    "                                      , \"review_answer_timestamp\"], axis = 1) "
   ]
  },
  {
   "cell_type": "code",
   "execution_count": 47,
   "id": "26c9735e",
   "metadata": {},
   "outputs": [
    {
     "name": "stdout",
     "output_type": "stream",
     "text": [
      "+----+-------------------------------+---------+-------------------+-----------------+-------------+\n",
      "|    | nom colonne                   | dtype   |   valeur non null |   % de non null |   nb_unique |\n",
      "|----+-------------------------------+---------+-------------------+-----------------+-------------|\n",
      "|  0 | order_id                      | object  |             99992 |           100   |       99441 |\n",
      "|  1 | customer_id                   | object  |             99992 |           100   |       99441 |\n",
      "|  2 | order_status                  | object  |             99992 |           100   |           8 |\n",
      "|  3 | order_purchase_timestamp      | object  |             99992 |           100   |       98875 |\n",
      "|  4 | order_approved_at             | object  |             99831 |            99.8 |       90733 |\n",
      "|  5 | order_delivered_carrier_date  | object  |             98199 |            98.2 |       81018 |\n",
      "|  6 | order_delivered_customer_date | object  |             97005 |            97   |       95664 |\n",
      "|  7 | order_estimated_delivery_date | object  |             99992 |           100   |         459 |\n",
      "+----+-------------------------------+---------+-------------------+-----------------+-------------+\n"
     ]
    }
   ],
   "source": [
    "tstats(order_review_test)"
   ]
  },
  {
   "cell_type": "code",
   "execution_count": 50,
   "id": "3d9722f5",
   "metadata": {},
   "outputs": [
    {
     "name": "stdout",
     "output_type": "stream",
     "text": [
      "False\n"
     ]
    }
   ],
   "source": [
    "print(orders.equals(order_review_test)) "
   ]
  },
  {
   "cell_type": "code",
   "execution_count": 52,
   "id": "3d5d54d3",
   "metadata": {
    "scrolled": true
   },
   "outputs": [
    {
     "data": {
      "text/html": [
       "<div>\n",
       "<style scoped>\n",
       "    .dataframe tbody tr th:only-of-type {\n",
       "        vertical-align: middle;\n",
       "    }\n",
       "\n",
       "    .dataframe tbody tr th {\n",
       "        vertical-align: top;\n",
       "    }\n",
       "\n",
       "    .dataframe thead th {\n",
       "        text-align: right;\n",
       "    }\n",
       "</style>\n",
       "<table border=\"1\" class=\"dataframe\">\n",
       "  <thead>\n",
       "    <tr style=\"text-align: right;\">\n",
       "      <th></th>\n",
       "      <th>order_id</th>\n",
       "      <th>customer_id</th>\n",
       "      <th>order_status</th>\n",
       "      <th>order_purchase_timestamp</th>\n",
       "      <th>order_approved_at</th>\n",
       "      <th>order_delivered_carrier_date</th>\n",
       "      <th>order_delivered_customer_date</th>\n",
       "      <th>order_estimated_delivery_date</th>\n",
       "    </tr>\n",
       "  </thead>\n",
       "  <tbody>\n",
       "  </tbody>\n",
       "</table>\n",
       "</div>"
      ],
      "text/plain": [
       "Empty DataFrame\n",
       "Columns: [order_id, customer_id, order_status, order_purchase_timestamp, order_approved_at, order_delivered_carrier_date, order_delivered_customer_date, order_estimated_delivery_date]\n",
       "Index: []"
      ]
     },
     "execution_count": 52,
     "metadata": {},
     "output_type": "execute_result"
    }
   ],
   "source": [
    "pd.concat([orders,order_review_test]).drop_duplicates(keep=False)"
   ]
  },
  {
   "cell_type": "code",
   "execution_count": 66,
   "id": "a452ea81",
   "metadata": {},
   "outputs": [
    {
     "name": "stdout",
     "output_type": "stream",
     "text": [
      "+----+-------------------------------+---------+-------------------+-----------------+-------------+\n",
      "|    | nom colonne                   | dtype   |   valeur non null |   % de non null |   nb_unique |\n",
      "|----+-------------------------------+---------+-------------------+-----------------+-------------|\n",
      "|  0 | order_id                      | object  |             99441 |           100   |       99441 |\n",
      "|  1 | customer_id                   | object  |             99441 |           100   |       99441 |\n",
      "|  2 | order_status                  | object  |             99441 |           100   |           8 |\n",
      "|  3 | order_purchase_timestamp      | object  |             99441 |           100   |       98875 |\n",
      "|  4 | order_approved_at             | object  |             99281 |            99.8 |       90733 |\n",
      "|  5 | order_delivered_carrier_date  | object  |             97658 |            98.2 |       81018 |\n",
      "|  6 | order_delivered_customer_date | object  |             96476 |            97   |       95664 |\n",
      "|  7 | order_estimated_delivery_date | object  |             99441 |           100   |         459 |\n",
      "+----+-------------------------------+---------+-------------------+-----------------+-------------+\n"
     ]
    }
   ],
   "source": [
    "test_concat = pd.concat([orders,order_review_test]).drop_duplicates()\n",
    "tstats(test_concat)"
   ]
  },
  {
   "cell_type": "code",
   "execution_count": 54,
   "id": "7c9c8b0a",
   "metadata": {},
   "outputs": [
    {
     "data": {
      "text/html": [
       "<div>\n",
       "<style scoped>\n",
       "    .dataframe tbody tr th:only-of-type {\n",
       "        vertical-align: middle;\n",
       "    }\n",
       "\n",
       "    .dataframe tbody tr th {\n",
       "        vertical-align: top;\n",
       "    }\n",
       "\n",
       "    .dataframe thead th {\n",
       "        text-align: right;\n",
       "    }\n",
       "</style>\n",
       "<table border=\"1\" class=\"dataframe\">\n",
       "  <thead>\n",
       "    <tr style=\"text-align: right;\">\n",
       "      <th></th>\n",
       "      <th>order_id</th>\n",
       "      <th>customer_id</th>\n",
       "      <th>order_status</th>\n",
       "      <th>order_purchase_timestamp</th>\n",
       "      <th>order_approved_at</th>\n",
       "      <th>order_delivered_carrier_date</th>\n",
       "      <th>order_delivered_customer_date</th>\n",
       "      <th>order_estimated_delivery_date</th>\n",
       "      <th>_merge</th>\n",
       "    </tr>\n",
       "  </thead>\n",
       "  <tbody>\n",
       "  </tbody>\n",
       "</table>\n",
       "</div>"
      ],
      "text/plain": [
       "Empty DataFrame\n",
       "Columns: [order_id, customer_id, order_status, order_purchase_timestamp, order_approved_at, order_delivered_carrier_date, order_delivered_customer_date, order_estimated_delivery_date, _merge]\n",
       "Index: []"
      ]
     },
     "execution_count": 54,
     "metadata": {},
     "output_type": "execute_result"
    }
   ],
   "source": [
    "orders.merge(order_review_test,indicator = True, how='left').loc[lambda x : x['_merge']!='both']"
   ]
  },
  {
   "cell_type": "code",
   "execution_count": 61,
   "id": "81e68bda",
   "metadata": {
    "scrolled": true
   },
   "outputs": [
    {
     "name": "stdout",
     "output_type": "stream",
     "text": [
      "+----+--------------------------------+----------+-------------------+-----------------+-------------+\n",
      "|    | nom colonne                    | dtype    |   valeur non null |   % de non null |   nb_unique |\n",
      "|----+--------------------------------+----------+-------------------+-----------------+-------------|\n",
      "|  0 | order_id                       | object   |             99992 |           100   |       99441 |\n",
      "|  1 | customer_id                    | object   |             99992 |           100   |       99441 |\n",
      "|  2 | order_status                   | object   |             99992 |           100   |           8 |\n",
      "|  3 | order_purchase_timestamp       | object   |             99992 |           100   |       98875 |\n",
      "|  4 | order_approved_at              | object   |             99831 |            99.8 |       90733 |\n",
      "|  5 | order_delivered_carrier_date   | object   |             98199 |            98.2 |       81018 |\n",
      "|  6 | order_delivered_customer_date  | object   |             97005 |            97   |       95664 |\n",
      "|  7 | order_estimated_delivery_date  | object   |             99992 |           100   |         459 |\n",
      "|  8 | customer_id_                   | object   |             99992 |           100   |       99441 |\n",
      "|  9 | order_status_                  | object   |             99992 |           100   |           8 |\n",
      "| 10 | order_purchase_timestamp_      | object   |             99992 |           100   |       98875 |\n",
      "| 11 | order_approved_at_             | object   |             99831 |            99.8 |       90733 |\n",
      "| 12 | order_delivered_carrier_date_  | object   |             98199 |            98.2 |       81018 |\n",
      "| 13 | order_delivered_customer_date_ | object   |             97005 |            97   |       95664 |\n",
      "| 14 | order_estimated_delivery_date_ | object   |             99992 |           100   |         459 |\n",
      "| 15 | _merge                         | category |             99992 |           100   |           1 |\n",
      "+----+--------------------------------+----------+-------------------+-----------------+-------------+\n",
      "99992\n"
     ]
    }
   ],
   "source": [
    "m = orders.merge(order_review_test, on='order_id', how='outer', suffixes=['', '_'], indicator=True)\n",
    "tstats(m)"
   ]
  },
  {
   "cell_type": "code",
   "execution_count": 62,
   "id": "aac279d9",
   "metadata": {},
   "outputs": [
    {
     "name": "stdout",
     "output_type": "stream",
     "text": [
      "99992\n"
     ]
    }
   ],
   "source": [
    "nbBoth = m[\"_merge\"].count()\n",
    "print(nbBoth)"
   ]
  },
  {
   "cell_type": "code",
   "execution_count": 75,
   "id": "be5b5c5b",
   "metadata": {},
   "outputs": [
    {
     "name": "stdout",
     "output_type": "stream",
     "text": [
      "+----+-------------------------------+---------+-------------------+-----------------+-------------+\n",
      "|    | nom colonne                   | dtype   |   valeur non null |   % de non null |   nb_unique |\n",
      "|----+-------------------------------+---------+-------------------+-----------------+-------------|\n",
      "|  0 | order_id                      | object  |             99992 |           100   |       99441 |\n",
      "|  1 | customer_id                   | object  |             99992 |           100   |       99441 |\n",
      "|  2 | order_status                  | object  |             99992 |           100   |           8 |\n",
      "|  3 | order_purchase_timestamp      | object  |             99992 |           100   |       98875 |\n",
      "|  4 | order_approved_at             | object  |             99831 |            99.8 |       90733 |\n",
      "|  5 | order_delivered_carrier_date  | object  |             98199 |            98.2 |       81018 |\n",
      "|  6 | order_delivered_customer_date | object  |             97005 |            97   |       95664 |\n",
      "|  7 | order_estimated_delivery_date | object  |             99992 |           100   |         459 |\n",
      "|  8 | customer_unique_id            | object  |             99992 |           100   |       96096 |\n",
      "|  9 | customer_zip_code_prefix      | int64   |             99992 |           100   |       14994 |\n",
      "| 10 | customer_city                 | object  |             99992 |           100   |        4119 |\n",
      "| 11 | customer_state                | object  |             99992 |           100   |          27 |\n",
      "| 12 | review_id                     | object  |             99224 |            99.2 |       98410 |\n",
      "| 13 | review_score                  | float64 |             99224 |            99.2 |           5 |\n",
      "| 14 | review_comment_title          | object  |             11568 |            11.6 |        4527 |\n",
      "| 15 | review_comment_message        | object  |             40977 |            41   |       36159 |\n",
      "| 16 | review_creation_date          | object  |             99224 |            99.2 |         636 |\n",
      "| 17 | review_answer_timestamp       | object  |             99224 |            99.2 |       98248 |\n",
      "+----+-------------------------------+---------+-------------------+-----------------+-------------+\n"
     ]
    }
   ],
   "source": [
    "df = orders.merge(customer, on=\"customer_id\", how ='left').merge(order_review, on = \"order_id\", how='left')\n",
    "tstats(df)"
   ]
  },
  {
   "cell_type": "code",
   "execution_count": 76,
   "id": "d503c23c",
   "metadata": {},
   "outputs": [
    {
     "name": "stdout",
     "output_type": "stream",
     "text": [
      "+----+-------------------------------+---------+-------------------+-----------------+-------------+\n",
      "|    | nom colonne                   | dtype   |   valeur non null |   % de non null |   nb_unique |\n",
      "|----+-------------------------------+---------+-------------------+-----------------+-------------|\n",
      "|  0 | order_id                      | object  |            119143 |           100   |       99441 |\n",
      "|  1 | customer_id                   | object  |            119143 |           100   |       99441 |\n",
      "|  2 | order_status                  | object  |            119143 |           100   |           8 |\n",
      "|  3 | order_purchase_timestamp      | object  |            119143 |           100   |       98875 |\n",
      "|  4 | order_approved_at             | object  |            118966 |            99.9 |       90733 |\n",
      "|  5 | order_delivered_carrier_date  | object  |            117057 |            98.2 |       81018 |\n",
      "|  6 | order_delivered_customer_date | object  |            115722 |            97.1 |       95664 |\n",
      "|  7 | order_estimated_delivery_date | object  |            119143 |           100   |         459 |\n",
      "|  8 | customer_unique_id            | object  |            119143 |           100   |       96096 |\n",
      "|  9 | customer_zip_code_prefix      | int64   |            119143 |           100   |       14994 |\n",
      "| 10 | customer_city                 | object  |            119143 |           100   |        4119 |\n",
      "| 11 | customer_state                | object  |            119143 |           100   |          27 |\n",
      "| 12 | order_item_id                 | float64 |            118310 |            99.3 |          21 |\n",
      "| 13 | product_id                    | object  |            118310 |            99.3 |       32951 |\n",
      "| 14 | seller_id                     | object  |            118310 |            99.3 |        3095 |\n",
      "| 15 | shipping_limit_date           | object  |            118310 |            99.3 |       93318 |\n",
      "| 16 | price                         | float64 |            118310 |            99.3 |        5968 |\n",
      "| 17 | freight_value                 | float64 |            118310 |            99.3 |        6999 |\n",
      "| 18 | review_id                     | object  |            118146 |            99.2 |       98410 |\n",
      "| 19 | review_score                  | float64 |            118146 |            99.2 |           5 |\n",
      "| 20 | review_comment_title          | object  |             13989 |            11.7 |        4527 |\n",
      "| 21 | review_comment_message        | object  |             50245 |            42.2 |       36159 |\n",
      "| 22 | review_creation_date          | object  |            118146 |            99.2 |         636 |\n",
      "| 23 | review_answer_timestamp       | object  |            118146 |            99.2 |       98248 |\n",
      "| 24 | payment_sequential            | float64 |            119140 |           100   |          29 |\n",
      "| 25 | payment_type                  | object  |            119140 |           100   |           5 |\n",
      "| 26 | payment_installments          | float64 |            119140 |           100   |          24 |\n",
      "| 27 | payment_value                 | float64 |            119140 |           100   |       29077 |\n",
      "| 28 | seller_zip_code_prefix        | float64 |            118310 |            99.3 |        2246 |\n",
      "| 29 | seller_city                   | object  |            118310 |            99.3 |         611 |\n",
      "| 30 | seller_state                  | object  |            118310 |            99.3 |          23 |\n",
      "| 31 | product_category_name         | object  |            116601 |            97.9 |          73 |\n",
      "| 32 | product_name_lenght           | float64 |            116601 |            97.9 |          66 |\n",
      "| 33 | product_description_lenght    | float64 |            116601 |            97.9 |        2960 |\n",
      "| 34 | product_photos_qty            | float64 |            116601 |            97.9 |          19 |\n",
      "| 35 | product_weight_g              | float64 |            118290 |            99.3 |        2204 |\n",
      "| 36 | product_length_cm             | float64 |            118290 |            99.3 |          99 |\n",
      "| 37 | product_height_cm             | float64 |            118290 |            99.3 |         102 |\n",
      "| 38 | product_width_cm              | float64 |            118290 |            99.3 |          95 |\n",
      "| 39 | product_category_name_english | object  |            116576 |            97.8 |          71 |\n",
      "+----+-------------------------------+---------+-------------------+-----------------+-------------+\n"
     ]
    }
   ],
   "source": [
    "df = orders.merge(customer, on=\"customer_id\", how ='left')\\\n",
    ".merge(order_item, on= \"order_id\", how = 'left')\\\n",
    ".merge(order_review, on =\"order_id\", how=\"left\")\\\n",
    ".merge(order_payment, on ='order_id', how ='left')\\\n",
    ".merge(sellers, on ='seller_id', how =\"left\")\\\n",
    ".merge(products, on = \"product_id\", how = 'left')\\\n",
    ".merge(category, on=\"product_category_name\", how=\"left\")\n",
    "\n",
    "tstats(df)"
   ]
  },
  {
   "cell_type": "code",
   "execution_count": 78,
   "id": "da3383d2",
   "metadata": {},
   "outputs": [
    {
     "name": "stdout",
     "output_type": "stream",
     "text": [
      "+----+-------------------------------+---------+-------------------+-----------------+-------------+\n",
      "|    | nom colonne                   | dtype   |   valeur non null |   % de non null |   nb_unique |\n",
      "|----+-------------------------------+---------+-------------------+-----------------+-------------|\n",
      "|  0 | order_id                      | object  |             99441 |           100   |       99441 |\n",
      "|  1 | customer_id                   | object  |             99441 |           100   |       99441 |\n",
      "|  2 | order_status                  | object  |             99441 |           100   |           8 |\n",
      "|  3 | order_purchase_timestamp      | object  |             99441 |           100   |       98875 |\n",
      "|  4 | order_approved_at             | object  |             99281 |            99.8 |       90733 |\n",
      "|  5 | order_delivered_carrier_date  | object  |             97658 |            98.2 |       81018 |\n",
      "|  6 | order_delivered_customer_date | object  |             96476 |            97   |       95664 |\n",
      "|  7 | order_estimated_delivery_date | object  |             99441 |           100   |         459 |\n",
      "|  8 | customer_unique_id            | object  |             99441 |           100   |       96096 |\n",
      "|  9 | customer_zip_code_prefix      | int64   |             99441 |           100   |       14994 |\n",
      "| 10 | customer_city                 | object  |             99441 |           100   |        4119 |\n",
      "| 11 | customer_state                | object  |             99441 |           100   |          27 |\n",
      "+----+-------------------------------+---------+-------------------+-----------------+-------------+\n"
     ]
    }
   ],
   "source": [
    "df = orders.merge(customer, on=\"customer_id\", how ='left')\n",
    "tstats(df)"
   ]
  },
  {
   "cell_type": "code",
   "execution_count": 79,
   "id": "d54058d6",
   "metadata": {},
   "outputs": [
    {
     "name": "stdout",
     "output_type": "stream",
     "text": [
      "1     93099\n",
      "2      2745\n",
      "3       203\n",
      "4        30\n",
      "5         8\n",
      "6         6\n",
      "7         3\n",
      "9         1\n",
      "17        1\n",
      "Name: order_id, dtype: int64\n"
     ]
    }
   ],
   "source": [
    "customer_groupby = df.groupby(['customer_unique_id'])['order_id'].count()\n",
    "print(customer_groupby.value_counts().sort_index())"
   ]
  }
 ],
 "metadata": {
  "kernelspec": {
   "display_name": "Python 3 (ipykernel)",
   "language": "python",
   "name": "python3"
  },
  "language_info": {
   "codemirror_mode": {
    "name": "ipython",
    "version": 3
   },
   "file_extension": ".py",
   "mimetype": "text/x-python",
   "name": "python",
   "nbconvert_exporter": "python",
   "pygments_lexer": "ipython3",
   "version": "3.9.13"
  }
 },
 "nbformat": 4,
 "nbformat_minor": 5
}
